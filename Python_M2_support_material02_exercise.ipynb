{
  "nbformat": 4,
  "nbformat_minor": 0,
  "metadata": {
    "colab": {
      "provenance": [],
      "toc_visible": true,
      "include_colab_link": true
    },
    "kernelspec": {
      "name": "python3",
      "display_name": "Python 3"
    }
  },
  "cells": [
    {
      "cell_type": "markdown",
      "metadata": {
        "id": "view-in-github",
        "colab_type": "text"
      },
      "source": [
        "<a href=\"https://colab.research.google.com/github/Guspex/FSP-EBAC/blob/main/Python_M2_support_material02_exercise.ipynb\" target=\"_parent\"><img src=\"https://colab.research.google.com/assets/colab-badge.svg\" alt=\"Open In Colab\"/></a>"
      ]
    },
    {
      "cell_type": "markdown",
      "metadata": {
        "id": "KJqp9AANOCtf"
      },
      "source": [
        "<img src=\"https://raw.githubusercontent.com/andre-marcos-perez/ebac-course-utils/main/media/logo/newebac_logo_black_half.png\" alt=\"ebac-logo\">\n",
        "\n",
        "---\n",
        "\n",
        "# **Módulo** | Python: Estruturas de Dados\n",
        "Caderno de **Exercícios**<br>\n",
        "Professor [André Perez](https://www.linkedin.com/in/andremarcosperez/)\n",
        "\n",
        "---"
      ]
    },
    {
      "cell_type": "markdown",
      "metadata": {
        "id": "d9jDtUbDOE1-"
      },
      "source": [
        "# **Tópicos**\n",
        "\n",
        "<ol type=\"1\">\n",
        "  <li>Listas;</li>\n",
        "  <li>Conjuntos;</li>\n",
        "  <li>Dicionários.</li>\n",
        "</ol>"
      ]
    },
    {
      "cell_type": "markdown",
      "metadata": {
        "id": "SmoHgt-lwkpD"
      },
      "source": [
        "---"
      ]
    },
    {
      "cell_type": "markdown",
      "metadata": {
        "id": "GABI6OW8OfQ2"
      },
      "source": [
        "# **Exercícios**"
      ]
    },
    {
      "cell_type": "markdown",
      "metadata": {
        "id": "muD1vxozykSC"
      },
      "source": [
        "## 1\\. Listas"
      ]
    },
    {
      "cell_type": "markdown",
      "metadata": {
        "id": "ahrFfCuBxJKs"
      },
      "source": [
        "Criei uma lista chamada `filmes` com o nome dos 10 primeiros filmes mais bem avaliados no site no [IMDB](https://www.imdb.com/chart/top/). Imprima o resultado."
      ]
    },
    {
      "cell_type": "code",
      "metadata": {
        "id": "OgL6Hv3bzOHI",
        "colab": {
          "base_uri": "https://localhost:8080/"
        },
        "outputId": "0faff2de-0a47-45fe-ee35-a0018c9136ae"
      },
      "source": [
        "filmes = []\n",
        "filmes.insert(0, \"Um Sonho de Liberdade\")\n",
        "filmes.insert(1, \"O Poderoso Chefão\")\n",
        "filmes.insert(2, \"Batman - O Cavaleiro das Trevas\")\n",
        "filmes.insert(3, \"O Poderoso Chefão II\")\n",
        "filmes.insert(4, \"12 Homens e uma Sentença\")\n",
        "filmes.insert(5, \"A Lista de Schindler\")\n",
        "filmes.insert(6, \"O Senhor dos Anéis: O Retorno do Rei\")\n",
        "filmes.insert(7, \"Pulp Fiction - Tempo de Violência\")\n",
        "filmes.insert(8, \"O Senhor dos Anéis: A Sociedade do Anel\")\n",
        "filmes.insert(9, \"Três Homens em Conflito\")\n",
        "print(filmes)"
      ],
      "execution_count": 24,
      "outputs": [
        {
          "output_type": "stream",
          "name": "stdout",
          "text": [
            "['Um Sonho de Liberdade', 'O Poderoso Chefão', 'Batman - O Cavaleiro das Trevas', 'O Poderoso Chefão II', '12 Homens e uma Sentença', 'A Lista de Schindler', 'O Senhor dos Anéis: O Retorno do Rei', 'Pulp Fiction - Tempo de Violência', 'O Senhor dos Anéis: A Sociedade do Anel', 'Três Homens em Conflito']\n"
          ]
        }
      ]
    },
    {
      "cell_type": "markdown",
      "metadata": {
        "id": "KI9zQRT2xa7m"
      },
      "source": [
        "Simule a movimentação do *ranking*. Utilize os métodos `insert` e `pop` para trocar a posição do primeiro e do segundo filme da lista. Imprima o resultado.\n",
        "\n"
      ]
    },
    {
      "cell_type": "code",
      "metadata": {
        "id": "zX3mA3_GzrXH",
        "colab": {
          "base_uri": "https://localhost:8080/"
        },
        "outputId": "59bb285c-9c9d-445d-d0b2-f4928227bbd1"
      },
      "source": [
        "\n",
        "filmes.pop(0)\n",
        "filmes.pop(1)\n",
        "filmes.insert(2, \"Um Sonho de Liberdade\")\n",
        "filmes.insert(9, \"Batman - O Cavaleiro das Trevas\")\n",
        "print(filmes)"
      ],
      "execution_count": 25,
      "outputs": [
        {
          "output_type": "stream",
          "name": "stdout",
          "text": [
            "['O Poderoso Chefão', 'O Poderoso Chefão II', 'Um Sonho de Liberdade', '12 Homens e uma Sentença', 'A Lista de Schindler', 'O Senhor dos Anéis: O Retorno do Rei', 'Pulp Fiction - Tempo de Violência', 'O Senhor dos Anéis: A Sociedade do Anel', 'Três Homens em Conflito', 'Batman - O Cavaleiro das Trevas']\n"
          ]
        }
      ]
    },
    {
      "cell_type": "markdown",
      "metadata": {
        "id": "zMN1Q3jdwoJm"
      },
      "source": [
        "---"
      ]
    },
    {
      "cell_type": "markdown",
      "metadata": {
        "id": "lxa5L6uF0ZJE"
      },
      "source": [
        "## 2\\. Conjuntos"
      ]
    },
    {
      "cell_type": "markdown",
      "metadata": {
        "id": "9JahS2Kj0d5u"
      },
      "source": [
        "Aconteceu um erro no seu *ranking*. Simule a duplicação dos três últimos filmes da lista. Imprima o resultado."
      ]
    },
    {
      "cell_type": "code",
      "metadata": {
        "id": "BnjnLBNC6PGe",
        "colab": {
          "base_uri": "https://localhost:8080/"
        },
        "outputId": "65869ab6-435a-4177-cd0f-93f7e9852b33"
      },
      "source": [
        "filmes.insert(-1, filmes[-1])\n",
        "filmes.insert(-3, filmes[-3])\n",
        "filmes.insert(-5, filmes[-5])\n",
        "print(filmes)"
      ],
      "execution_count": 26,
      "outputs": [
        {
          "output_type": "stream",
          "name": "stdout",
          "text": [
            "['O Poderoso Chefão', 'O Poderoso Chefão II', 'Um Sonho de Liberdade', '12 Homens e uma Sentença', 'A Lista de Schindler', 'O Senhor dos Anéis: O Retorno do Rei', 'Pulp Fiction - Tempo de Violência', 'O Senhor dos Anéis: A Sociedade do Anel', 'O Senhor dos Anéis: A Sociedade do Anel', 'Três Homens em Conflito', 'Três Homens em Conflito', 'Batman - O Cavaleiro das Trevas', 'Batman - O Cavaleiro das Trevas']\n"
          ]
        }
      ]
    },
    {
      "cell_type": "markdown",
      "metadata": {
        "id": "suxTfCJB6ZiX"
      },
      "source": [
        "Utiliza a conversão `set` e `list` para remover os valores duplicados. Imprima o resultado."
      ]
    },
    {
      "cell_type": "code",
      "metadata": {
        "id": "ZvUGN-0n6joM",
        "colab": {
          "base_uri": "https://localhost:8080/"
        },
        "outputId": "947bc971-d960-4f80-a87f-44f51a7e2dd1"
      },
      "source": [
        "filmesLimpo = list(set(filmes))\n",
        "print(filmesLimpo)"
      ],
      "execution_count": 27,
      "outputs": [
        {
          "output_type": "stream",
          "name": "stdout",
          "text": [
            "['Batman - O Cavaleiro das Trevas', '12 Homens e uma Sentença', 'Um Sonho de Liberdade', 'A Lista de Schindler', 'Pulp Fiction - Tempo de Violência', 'O Poderoso Chefão', 'O Poderoso Chefão II', 'Três Homens em Conflito', 'O Senhor dos Anéis: O Retorno do Rei', 'O Senhor dos Anéis: A Sociedade do Anel']\n"
          ]
        }
      ]
    },
    {
      "cell_type": "markdown",
      "metadata": {
        "id": "ShkK35eQ6pAM"
      },
      "source": [
        "---"
      ]
    },
    {
      "cell_type": "markdown",
      "metadata": {
        "id": "EL_FzmxL6rTv"
      },
      "source": [
        "## 3\\. Dicionários"
      ]
    },
    {
      "cell_type": "markdown",
      "metadata": {
        "id": "i8l0gFqRCpfT"
      },
      "source": [
        "Repita os exercícios da parte 1 (listas). Os elementos da lista `filmes` devem ser dicionários no seguinte formato: `{'nome': <nome-do-filme>, 'ano': <ano do filme>}, 'sinopse': <sinopse do filme>}`."
      ]
    },
    {
      "cell_type": "code",
      "metadata": {
        "id": "tu6MSFwGDnHv",
        "colab": {
          "base_uri": "https://localhost:8080/"
        },
        "outputId": "ea9a05d7-24d7-41bf-8d41-4e6eb5df80c2"
      },
      "source": [
        "filmes = []\n",
        "filmes.append({'nome': 'Um Sonho de Liberdade', 'ano': 1994, 'sinopse': '...'})\n",
        "filmes.append({'nome': 'O Poderoso Chefão', 'ano': 1972, 'sinopse': '...'})\n",
        "filmes.append({'nome': 'Batman - O Cavaleiro das Trevas', 'ano': 2008, 'sinopse': '...'})\n",
        "filmes.append({'nome': 'O Poderoso Chefão II', 'ano': 1974, 'sinopse': '...'})\n",
        "filmes.append({'nome': '12 Homens e uma Sentença', 'ano': 1957, 'sinopse': '...'})\n",
        "filmes.append({'nome': 'A Lista de Schindler', 'ano': 1993, 'sinopse': '...'})\n",
        "filmes.append({'nome': 'O Senhor dos Anéis: O Retorno do Rei', 'ano': 2003, 'sinopse': '...'})\n",
        "filmes.append({'nome': 'Pulp Fiction - Tempo de Violência', 'ano': 1994, 'sinopse': '...'})\n",
        "filmes.append({'nome': 'O Senhor dos Anéis: A Sociedade do Anel', 'ano': 2001, 'sinopse': '...'})\n",
        "filmes.append({'nome': 'Três Homens em Conflito', 'ano': 1966, 'sinopse': '...'})\n",
        "for filme in filmes:\n",
        "    print(filme)"
      ],
      "execution_count": 28,
      "outputs": [
        {
          "output_type": "stream",
          "name": "stdout",
          "text": [
            "{'nome': 'Um Sonho de Liberdade', 'ano': 1994, 'sinopse': '...'}\n",
            "{'nome': 'O Poderoso Chefão', 'ano': 1972, 'sinopse': '...'}\n",
            "{'nome': 'Batman - O Cavaleiro das Trevas', 'ano': 2008, 'sinopse': '...'}\n",
            "{'nome': 'O Poderoso Chefão II', 'ano': 1974, 'sinopse': '...'}\n",
            "{'nome': '12 Homens e uma Sentença', 'ano': 1957, 'sinopse': '...'}\n",
            "{'nome': 'A Lista de Schindler', 'ano': 1993, 'sinopse': '...'}\n",
            "{'nome': 'O Senhor dos Anéis: O Retorno do Rei', 'ano': 2003, 'sinopse': '...'}\n",
            "{'nome': 'Pulp Fiction - Tempo de Violência', 'ano': 1994, 'sinopse': '...'}\n",
            "{'nome': 'O Senhor dos Anéis: A Sociedade do Anel', 'ano': 2001, 'sinopse': '...'}\n",
            "{'nome': 'Três Homens em Conflito', 'ano': 1966, 'sinopse': '...'}\n"
          ]
        }
      ]
    }
  ]
}